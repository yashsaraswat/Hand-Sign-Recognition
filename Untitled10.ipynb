{
  "nbformat": 4,
  "nbformat_minor": 0,
  "metadata": {
    "colab": {
      "name": "Untitled10.ipynb",
      "provenance": [],
      "collapsed_sections": [],
      "toc_visible": true
    },
    "kernelspec": {
      "name": "python3",
      "display_name": "Python 3"
    },
    "accelerator": "GPU"
  },
  "cells": [
    {
      "cell_type": "code",
      "metadata": {
        "id": "UFoAldsmDpvJ",
        "colab_type": "code",
        "colab": {
          "base_uri": "https://localhost:8080/",
          "height": 87
        },
        "outputId": "3ced010f-e112-416f-c3e9-10fa0494be24"
      },
      "source": [
        "import numpy as np\n",
        "import tensorflow.compat.v1 as tf\n",
        "tf.disable_v2_behavior()\n",
        "import math\n",
        "import matplotlib.pyplot as plt\n",
        "import h5py\n",
        "from tensorflow.python.framework import ops\n",
        "from tf_utils import load_dataset, random_mini_batches, convert_to_one_hot, predict\n",
        "\n",
        "%matplotlib inline\n",
        "np.random.seed(1)"
      ],
      "execution_count": 1,
      "outputs": [
        {
          "output_type": "stream",
          "text": [
            "WARNING:tensorflow:From /usr/local/lib/python3.6/dist-packages/tensorflow/python/compat/v2_compat.py:96: disable_resource_variables (from tensorflow.python.ops.variable_scope) is deprecated and will be removed in a future version.\n",
            "Instructions for updating:\n",
            "non-resource variables are not supported in the long term\n"
          ],
          "name": "stdout"
        }
      ]
    },
    {
      "cell_type": "code",
      "metadata": {
        "id": "ufu3Vi-LDu1q",
        "colab_type": "code",
        "colab": {}
      },
      "source": [
        "#Loading Dataset\n",
        "X_train_orig, Y_train_orig, X_test_orig, Y_test_orig, classes = load_dataset()"
      ],
      "execution_count": 2,
      "outputs": []
    },
    {
      "cell_type": "code",
      "metadata": {
        "id": "CM9qs7yUGkuo",
        "colab_type": "code",
        "colab": {
          "base_uri": "https://localhost:8080/",
          "height": 285
        },
        "outputId": "f0247429-1970-404a-c6c7-0acc6f0f69c8"
      },
      "source": [
        "index = 543\n",
        "plt.imshow(X_train_orig[index])\n",
        "print(\"y = \"+ str(np.squeeze(Y_train_orig[:,index])))"
      ],
      "execution_count": 3,
      "outputs": [
        {
          "output_type": "stream",
          "text": [
            "y = 5\n"
          ],
          "name": "stdout"
        },
        {
          "output_type": "display_data",
          "data": {
            "image/png": "[encoded data removed]",
            "text/plain": [
              "<Figure size 432x288 with 1 Axes>"
            ]
          },
          "metadata": {
            "tags": [],
            "needs_background": "light"
          }
        }
      ]
    },
    {
      "cell_type": "code",
      "metadata": {
        "id": "zK5mOedMHQFr",
        "colab_type": "code",
        "colab": {
          "base_uri": "https://localhost:8080/",
          "height": 33
        },
        "outputId": "d7e36a14-1b10-4fd1-8ec4-462e5243e375"
      },
      "source": [
        "print(X_train_orig.shape)"
      ],
      "execution_count": 4,
      "outputs": [
        {
          "output_type": "stream",
          "text": [
            "(1080, 64, 64, 3)\n"
          ],
          "name": "stdout"
        }
      ]
    },
    {
      "cell_type": "code",
      "metadata": {
        "id": "AiBTRwBRHS7r",
        "colab_type": "code",
        "colab": {}
      },
      "source": [
        "#Flattening the training and the test images\n",
        "X_train_flatten = X_train_orig.reshape(X_train_orig.shape[0],-1).T\n",
        "X_test_flatten = X_test_orig.reshape(X_test_orig.shape[0],-1).T\n",
        "X_train = X_train_flatten/255.0\n",
        "X_test = X_test_flatten/255.0\n",
        "\n",
        "#Converted labels to one_hot vector\n",
        "Y_train = convert_to_one_hot(Y_train_orig,6)\n",
        "Y_test = convert_to_one_hot(Y_test_orig,6)"
      ],
      "execution_count": 5,
      "outputs": []
    },
    {
      "cell_type": "code",
      "metadata": {
        "id": "YPo-vxOFHgnN",
        "colab_type": "code",
        "colab": {
          "base_uri": "https://localhost:8080/",
          "height": 67
        },
        "outputId": "390e7742-7183-47d7-cb4c-11e272c07622"
      },
      "source": [
        "#Testing Dimensions of train set\n",
        "print(\"shape of X_train is\" + str(X_train.shape))\n",
        "print(\"shape of Y_train is\" + str(Y_train.shape))\n",
        "print(\"No. of examples in training set \" + str(X_train.shape[1]))"
      ],
      "execution_count": 6,
      "outputs": [
        {
          "output_type": "stream",
          "text": [
            "shape of X_train is(12288, 1080)\n",
            "shape of Y_train is(6, 1080)\n",
            "No. of examples in training set 1080\n"
          ],
          "name": "stdout"
        }
      ]
    },
    {
      "cell_type": "markdown",
      "metadata": {
        "id": "VyCwpVnsXV8c",
        "colab_type": "text"
      },
      "source": [
        "##Time to create some helper functions for our model"
      ]
    },
    {
      "cell_type": "code",
      "metadata": {
        "id": "9bo8bIjUg-KW",
        "colab_type": "code",
        "colab": {}
      },
      "source": [
        "def create_placeholders(n_x,n_y):\n",
        "  \"\"\"\n",
        "  creates placeholders for X_train minibatch and Y_train minibatch\n",
        "  Input Arguments :\n",
        "  n_x : scalar, size of image vector(64*64*3 = 12288)\n",
        "  n_y : scalar, size of output vector(0 ->5 i.e. 6)\n",
        "  Returns :\n",
        "  X - Placeholder for input vector\n",
        "  Y - placeholder for output vector\n",
        "  \"\"\"\n",
        "  X = tf.placeholder(dtype = tf.float32,shape=(n_x,None),name =\"X\")\n",
        "  Y = tf.placeholder(dtype = tf.float32,shape = (n_y,None),name = \"Y\")\n",
        "\n",
        "  return X,Y"
      ],
      "execution_count": 7,
      "outputs": []
    },
    {
      "cell_type": "code",
      "metadata": {
        "id": "2o1PrOuYhmFR",
        "colab_type": "code",
        "colab": {}
      },
      "source": [
        "def initialize_parameters():\n",
        "    tf.set_random_seed(1)                   \n",
        "        \n",
        "    \n",
        "    W1 = tf.get_variable(\"W1\",[25,12288],initializer =tf.keras.initializers.glorot_uniform(seed=1))\n",
        "    b1 = tf.get_variable(\"b1\",shape=[25,1],initializer = tf.keras.initializers.Zeros())\n",
        "    W2 = tf.get_variable(\"W2\",[12,25],initializer =tf.keras.initializers.glorot_uniform(seed=1))\n",
        "    b2 = tf.get_variable(\"b2\",shape=[12,1],initializer = tf.keras.initializers.Zeros())\n",
        "    W3 = tf.get_variable(\"W3\",[6,12],initializer =tf.keras.initializers.glorot_uniform(seed=1))\n",
        "    b3 = tf.get_variable(\"b3\",shape=[6,1],initializer = tf.keras.initializers.Zeros())\n",
        "    \n",
        "    parameters = {\"W1\": W1,\n",
        "                  \"b1\": b1,\n",
        "                  \"W2\": W2,\n",
        "                  \"b2\": b2,\n",
        "                  \"W3\": W3,\n",
        "                  \"b3\": b3}\n",
        "    \n",
        "    return parameters"
      ],
      "execution_count": 8,
      "outputs": []
    },
    {
      "cell_type": "code",
      "metadata": {
        "id": "sgV4hwezaAn4",
        "colab_type": "code",
        "colab": {}
      },
      "source": [
        "def forward_propagation(X,parameters):\n",
        "  W1 = parameters[\"W1\"]\n",
        "  W2 = parameters[\"W2\"]\n",
        "  W3 = parameters[\"W3\"]\n",
        "  b1 = parameters[\"b1\"]\n",
        "  b2 = parameters[\"b2\"]\n",
        "  b3 = parameters[\"b3\"]\n",
        "\n",
        "  Z1 = tf.matmul(W1,X) +b1\n",
        "  A1 = tf.nn.relu(Z1)\n",
        "  Z2 = tf.matmul(W2,A1) +b2\n",
        "  A2 = tf.nn.relu(Z2)\n",
        "  Z3 = tf.matmul(W3,A2) + b3\n",
        "\n",
        "  return Z3"
      ],
      "execution_count": 9,
      "outputs": []
    },
    {
      "cell_type": "code",
      "metadata": {
        "id": "rQDkEPRPiccA",
        "colab_type": "code",
        "colab": {}
      },
      "source": [
        "def compute_cost(Z3,Y,parameters):\n",
        "  W1 = parameters[\"W1\"]\n",
        "  W2 = parameters[\"W2\"]\n",
        "  W3 = parameters[\"W3\"]\n",
        "  regularizers = tf.nn.l2_loss(W1) +tf.nn.l2_loss(W2) + tf.nn.l2_loss(W3)\n",
        "  logits = tf.transpose(Z3)\n",
        "  labels = tf.transpose(Y)\n",
        "  cost = tf.reduce_mean(tf.nn.softmax_cross_entropy_with_logits(logits = logits,labels=labels) + 0.01*regularizers )\n",
        "\n",
        "  return cost"
      ],
      "execution_count": 10,
      "outputs": []
    },
    {
      "cell_type": "code",
      "metadata": {
        "id": "Wk6iTBlTZ7Xl",
        "colab_type": "code",
        "colab": {}
      },
      "source": [
        "def model(X_train,Y_train,X_test,Y_test,learning_rate = 0.001,num_epochs = 1500,minibatch_size = 128,print_cost=True):\n",
        "  seed = 3\n",
        "  (n_x,m) = X_train.shape\n",
        "  n_y = Y_train.shape[0]\n",
        "  costs=[]\n",
        "  #Creating Placeholders for input and output vector\n",
        "  X,Y = create_placeholders(n_x,n_y)\n",
        "\n",
        "  #Initializing parameters\n",
        "  parameters = initialize_parameters()\n",
        "\n",
        "  #Building the forward propagation through network\n",
        "  Z3 = forward_propagation(X,parameters)\n",
        "\n",
        "  #Computing the cost\n",
        "  cost = compute_cost(Z3,Y,parameters)\n",
        "\n",
        "  #Defining the Backpropagation Optimizer\n",
        "\n",
        "  optimizer = tf.train.GradientDescentOptimizer(learning_rate=learning_rate).minimize(cost)\n",
        "\n",
        "  #Initialize all variables\n",
        "  init = tf.global_variables_initializer()\n",
        "\n",
        "  #Running a Session to run model\n",
        "  with tf.Session() as sess:\n",
        "    sess.run(init)\n",
        "    for epoch in range(num_epochs):\n",
        "      epoch_cost=0\n",
        "      num_minibatches = int(m/minibatch_size)\n",
        "      seed = seed+1\n",
        "      minibatches = random_mini_batches(X_train,Y_train,mini_batch_size=minibatch_size,seed=seed)\n",
        "      for minibatch in minibatches:\n",
        "        (minibatch_X,minibatch_Y) = minibatch\n",
        "        _,minibatch_cost = sess.run([optimizer,cost],feed_dict={X:minibatch_X,Y:minibatch_Y})\n",
        "        epoch_cost += minibatch_cost/minibatch_size\n",
        "      \n",
        "      # Print the cost every epoch\n",
        "      if print_cost == True and epoch % 100 == 0:\n",
        "        print (\"Cost after epoch %i: %f\" % (epoch, epoch_cost))\n",
        "      if print_cost == True and epoch % 5 == 0:\n",
        "        costs.append(epoch_cost)\n",
        "    # plot the cost\n",
        "    plt.plot(np.squeeze(costs))\n",
        "    plt.ylabel('cost')\n",
        "    plt.xlabel('iterations (per fives)')\n",
        "    plt.title(\"Learning rate =\" + str(learning_rate))\n",
        "    plt.show()\n",
        "\n",
        "    parameters = sess.run(parameters)\n",
        "    print(\"Parameters have been trained\")\n",
        "  # Calculate the correct predictions\n",
        "    correct_prediction = tf.equal(tf.argmax(Z3), tf.argmax(Y))          \n",
        "  # Calculate accuracy on the test set\n",
        "    accuracy = tf.reduce_mean(tf.cast(correct_prediction, \"float\"))\n",
        "\n",
        "    print (\"Train Accuracy:\", accuracy.eval({X: X_train, Y: Y_train}))\n",
        "    print (\"Test Accuracy:\", accuracy.eval({X: X_test, Y: Y_test}))\n",
        "        \n",
        "  return parameters\n",
        "  \n"
      ],
      "execution_count": 11,
      "outputs": []
    },
    {
      "cell_type": "code",
      "metadata": {
        "id": "djxlgfqWeIJe",
        "colab_type": "code",
        "colab": {
          "base_uri": "https://localhost:8080/",
          "height": 750
        },
        "outputId": "473bccca-cb16-4679-e38c-68238c042710"
      },
      "source": [
        "parameters = model(X_train, Y_train, X_test, Y_test)"
      ],
      "execution_count": 12,
      "outputs": [
        {
          "output_type": "stream",
          "text": [
            "WARNING:tensorflow:From /usr/local/lib/python3.6/dist-packages/tensorflow/python/util/dispatch.py:201: softmax_cross_entropy_with_logits (from tensorflow.python.ops.nn_ops) is deprecated and will be removed in a future version.\n",
            "Instructions for updating:\n",
            "\n",
            "Future major versions of TensorFlow will allow gradients to flow\n",
            "into the labels input on backprop by default.\n",
            "\n",
            "See `tf.nn.softmax_cross_entropy_with_logits_v2`.\n",
            "\n",
            "Cost after epoch 0: 0.151743\n",
            "Cost after epoch 100: 0.127083\n",
            "Cost after epoch 200: 0.112194\n",
            "Cost after epoch 300: 0.102819\n",
            "Cost after epoch 400: 0.094966\n",
            "Cost after epoch 500: 0.086427\n",
            "Cost after epoch 600: 0.080542\n",
            "Cost after epoch 700: 0.074993\n",
            "Cost after epoch 800: 0.068374\n",
            "Cost after epoch 900: 0.064380\n",
            "Cost after epoch 1000: 0.062632\n",
            "Cost after epoch 1100: 0.057105\n",
            "Cost after epoch 1200: 0.055123\n",
            "Cost after epoch 1300: 0.052137\n",
            "Cost after epoch 1400: 0.049950\n"
          ],
          "name": "stdout"
        },
        {
          "output_type": "display_data",
          "data": {
            "image/png": "[encoded data removed]",
            "text/plain": [
              "<Figure size 432x288 with 1 Axes>"
            ]
          },
          "metadata": {
            "tags": [],
            "needs_background": "light"
          }
        },
        {
          "output_type": "stream",
          "text": [
            "Parameters have been trained\n",
            "Train Accuracy: 0.9398148\n",
            "Test Accuracy: 0.8333333\n"
          ],
          "name": "stdout"
        }
      ]
    },
    {
      "cell_type": "code",
      "metadata": {
        "id": "lt9_D7Nrugwg",
        "colab_type": "code",
        "colab": {}
      },
      "source": [
        ""
      ],
      "execution_count": 13,
      "outputs": []
    },
    {
      "cell_type": "code",
      "metadata": {
        "id": "TDXUqIBL9dFQ",
        "colab_type": "code",
        "colab": {}
      },
      "source": [
        ""
      ],
      "execution_count": null,
      "outputs": []
    }
  ]
}